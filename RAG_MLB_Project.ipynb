{
  "cells": [
    {
      "cell_type": "code",
      "execution_count": 24,
      "metadata": {
        "id": "mNpNrek_KA78"
      },
      "outputs": [],
      "source": [
        "import numpy as np\n",
        "import string"
      ]
    },
    {
      "cell_type": "code",
      "execution_count": 39,
      "metadata": {
        "id": "9c5ihfmUKPog"
      },
      "outputs": [],
      "source": [
        "api_key = \"PASTE YOUR KEY HERE\""
      ]
    },
    {
      "cell_type": "code",
      "execution_count": 26,
      "metadata": {
        "id": "Krvtos6CeHKN"
      },
      "outputs": [],
      "source": [
        "characters = list(string.ascii_lowercase)  # ['a', 'b', 'c', ..., 'z']\n",
        "char_to_idx = {char: idx for idx, char in enumerate(characters)}\n",
        "\n",
        "dimension = 50\n",
        "char_embeddings = np.random.uniform(-0.1, 0.1, (len(characters), dimension))"
      ]
    },
    {
      "cell_type": "code",
      "execution_count": 27,
      "metadata": {
        "colab": {
          "base_uri": "https://localhost:8080/"
        },
        "id": "mYsdgxZ2ifMX",
        "outputId": "28011184-7753-4087-c657-1ccb20af6e81"
      },
      "outputs": [
        {
          "output_type": "stream",
          "name": "stdout",
          "text": [
            "[ 0.01534347 -0.06973809 -0.06431585  0.00859809 -0.00527008  0.00765575\n",
            " -0.03652599  0.01627339 -0.07430283  0.05011515 -0.03723685 -0.09766947\n",
            "  0.08168058 -0.0250968  -0.01988503 -0.0710732  -0.08676613 -0.08336481\n",
            "  0.01451135 -0.06538733 -0.0538215  -0.01201928 -0.083459   -0.09182281\n",
            " -0.00175482  0.05899312 -0.07208533 -0.04883641  0.04389491  0.07600584\n",
            " -0.01574123  0.02580365  0.06592005  0.01955442  0.05556406  0.01457036\n",
            "  0.04819666  0.06890085 -0.00935807 -0.03672484 -0.0666193  -0.03732303\n",
            " -0.00446185 -0.02117909 -0.07774656  0.0054326   0.07255876 -0.07992649\n",
            " -0.04102262 -0.08897226]\n"
          ]
        }
      ],
      "source": [
        "print(char_embeddings[0])"
      ]
    },
    {
      "cell_type": "code",
      "execution_count": 31,
      "metadata": {
        "id": "Vhrgcw-Ei03C"
      },
      "outputs": [],
      "source": [
        "def get_word_embedding(word):\n",
        "    embeddings = []\n",
        "    for char in word:\n",
        "        idx = char_to_idx[char]\n",
        "        # Convert the NumPy array to a Python list\n",
        "        embeddings.append(char_embeddings[idx].tolist())\n",
        "    return embeddings"
      ]
    },
    {
      "cell_type": "code",
      "execution_count": 7,
      "metadata": {
        "id": "jbkkDkELgo0L"
      },
      "outputs": [],
      "source": [
        "#words = []\n",
        "\n",
        "#with open(\"words.txt\", \"r\") as file:\n",
        " # for line in file:\n",
        "  #  words.append(line.strip())"
      ]
    },
    {
      "cell_type": "code",
      "execution_count": 8,
      "metadata": {
        "id": "CRcEkIhNherh"
      },
      "outputs": [],
      "source": [
        "#word_by_char_embeddings = {word : get_word_embedding(word) for word in words}\n",
        "\n",
        "#word_by_char_embeddings_list = {\n",
        " #   word: [embedding.tolist() for embedding in embeddings]\n",
        "  #  for word, embeddings in word_by_char_embeddings.items()\n",
        "#}\n",
        "\n",
        "#key, value = next(iter(word_by_char_embeddings_list.items()))\n",
        "#print(key, value)"
      ]
    },
    {
      "cell_type": "markdown",
      "source": [
        "#Cosine Similarity"
      ],
      "metadata": {
        "id": "XawXAWzJtfe5"
      }
    },
    {
      "cell_type": "code",
      "execution_count": 29,
      "metadata": {
        "id": "MJSYiOX7jzDK"
      },
      "outputs": [],
      "source": [
        "def cosine_similarity(A, B):\n",
        "    return np.dot(A, B) / (np.linalg.norm(A) * np.linalg.norm(B))"
      ]
    },
    {
      "cell_type": "markdown",
      "source": [
        "#Main Body of the game"
      ],
      "metadata": {
        "id": "78DSqCvutvww"
      }
    },
    {
      "cell_type": "code",
      "source": [
        "mastery_levels = {0 : \"beginner\", 1 : \"intermediate\", 2 : \"advanced\", 3 : \"Expert\", 4 : \"Master\"}\n",
        "\n",
        "curr_level = 0;"
      ],
      "metadata": {
        "id": "x1XvUlG8vPhW"
      },
      "execution_count": 8,
      "outputs": []
    },
    {
      "cell_type": "code",
      "source": [
        "import requests\n",
        "import random\n",
        "\n",
        "def generate_word(mastery_level):\n",
        "    if mastery_level == \"beginner\":\n",
        "        prompt = f\"Please provide a single English noun that is exactly 5 letters long, suitable for a word guessing game. Random seed: {random.randint(1, 1000)}.\"\n",
        "    elif mastery_level == \"intermediate\":\n",
        "        prompt = f\"Please provide a single, commonly used English noun that is in the range of 6 to 10 letters long, suitable for a word guessing game. Random seed: {random.randint(1, 1000)}.\"\n",
        "    elif mastery_level == \"advanced\":\n",
        "        prompt = f\"Please provide a single, uncommon English noun that is in the range of 6 to 10 letters long, suitable for a word guessing game. Random seed: {random.randint(1, 1000)}.\"\n",
        "    elif mastery_level == \"Expert\":\n",
        "        prompt = f\"Please provide a single English noun that is in the range of 6 to 10 letters long and that can be considered a specialized term, suitable for a word guessing game. Random seed: {random.randint(1, 1000)}.\"\n",
        "    else:\n",
        "        prompt = f\"Please provide a single English noun that is in the range of 6 to 10 letters long and can be considered challenging, suitable for a word guessing game. Random seed: {random.randint(1, 1000)}.\"\n",
        "\n",
        "    url = \"https://api.openai.com/v1/chat/completions\"\n",
        "    headers = {\n",
        "        \"Authorization\": f\"Bearer {api_key}\",\n",
        "        \"Content-Type\": \"application/json\"\n",
        "    }\n",
        "\n",
        "    data = {\n",
        "        \"model\": \"gpt-4\",\n",
        "        \"messages\": [\n",
        "            {\"role\": \"system\", \"content\": \"You are an assistant that generates words for a word guessing game.\"},\n",
        "            {\"role\": \"user\", \"content\": prompt}\n",
        "        ],\n",
        "        \"max_tokens\": 10,\n",
        "        \"temperature\": 1.5,\n",
        "        \"top_p\": 0.9\n",
        "    }\n",
        "\n",
        "    try:\n",
        "        response = requests.post(url, headers=headers, json=data)\n",
        "\n",
        "        if response.status_code == 200:\n",
        "            result = response.json()\n",
        "            word = result['choices'][0]['message']['content'].strip().lower()\n",
        "\n",
        "            if word.isalpha():\n",
        "                return word\n",
        "            else:\n",
        "                return generate_word(mastery_level)\n",
        "        else:\n",
        "            print(f\"Error: {response.status_code}, {response.json()}\")\n",
        "            return None\n",
        "    except Exception as e:\n",
        "        print(f\"An error occurred: {e}\")\n",
        "        return None\n"
      ],
      "metadata": {
        "id": "cpv6c6m8Of24"
      },
      "execution_count": 21,
      "outputs": []
    },
    {
      "cell_type": "code",
      "source": [
        "import random\n",
        "\n",
        "welcome_message = \"\"\"\n",
        "🎉 Welcome to the Ultimate Hacking Game! 🎉\n",
        "\n",
        "Get ready to test your hacking skills and have some fun!\n",
        "\n",
        "🔹Can you guess the password to the terminal before you run out of attempts?\n",
        "🔹On each attempt, you will be shown the similarity between your guess and the word. Use it to determine your next guess!\n",
        "🔹If you guessed a word, you will gain points and increase your hacking level!\n",
        "\n",
        "Best of luck, and may the words be ever in your favor! 💡✨\n",
        "\"\"\"\n",
        "print(welcome_message)\n",
        "\n",
        "curr_attempts = 0\n",
        "curr_level = 0\n",
        "\n",
        "while True:\n",
        "\n",
        "    sim_letters = 0\n",
        "    secret_word = generate_word(mastery_levels[curr_level // 10])\n",
        "    print(f\"Current mastery level: {mastery_levels[curr_level // 10]}\")\n",
        "    print(f\"Secret word length: {len(secret_word)}\")\n",
        "\n",
        "    guess = input(\"Enter your guess or type 'Exit' to quit: \").strip().lower()\n",
        "\n",
        "    if guess == \"exit\":\n",
        "        print(\"Thank you for playing!\")\n",
        "        break\n",
        "\n",
        "    if len(guess) != len(secret_word):\n",
        "        print(f\"Your guess must be {len(secret_word)} letters long. Try again!\")\n",
        "        continue\n",
        "\n",
        "    curr_attempts += 1\n",
        "\n",
        "    guessEmbedded = get_word_embedding(guess)\n",
        "    wordEmbedded = get_word_embedding(secret_word)\n",
        "\n",
        "    for i in range(len(secret_word)):\n",
        "        if i < len(guessEmbedded) and cosine_similarity(guessEmbedded[i], wordEmbedded[i]) == 1:\n",
        "            sim_letters += 1\n",
        "\n",
        "    print(f\"Similarity: {sim_letters}/{len(secret_word)} letters match exactly.\")\n",
        "\n",
        "    if sim_letters == len(secret_word):\n",
        "        print(\"🎉 You guessed the word! 🎉\")\n",
        "        curr_level += 1\n",
        "        curr_attempts = 0\n",
        "        print(f\"Level up! You're now at {mastery_levels[curr_level // 10]}.\")\n",
        "        continue\n",
        "\n",
        "    print(f\"Attempts: {curr_attempts}. Keep trying!\\n\")\n"
      ],
      "metadata": {
        "colab": {
          "base_uri": "https://localhost:8080/"
        },
        "id": "OajRj-9hte8u",
        "outputId": "f8f20cb1-e84a-40e1-d851-acafe9219382"
      },
      "execution_count": 38,
      "outputs": [
        {
          "output_type": "stream",
          "name": "stdout",
          "text": [
            "\n",
            "🎉 Welcome to the Ultimate Hacking Game! 🎉\n",
            "\n",
            "Get ready to test your hacking skills and have some fun!\n",
            "\n",
            "🔹Can you guess the password to the terminal before you run out of attempts?\n",
            "🔹On each attempt, you will be shown the similarity between your guess and the word. Use it to determine your next guess!\n",
            "🔹If you guessed a word, you will gain points and increase your hacking level!\n",
            "\n",
            "Best of luck, and may the words be ever in your favor! 💡✨\n",
            "\n",
            "Current mastery level: beginner\n",
            "Secret word length: 5\n",
            "Enter your guess or type 'Exit' to quit: Quite\n",
            "Similarity: 1/5 letters match exactly.\n",
            "Attempts: 1. Keep trying!\n",
            "\n",
            "Current mastery level: beginner\n",
            "Secret word length: 5\n",
            "Enter your guess or type 'Exit' to quit: Piles\n",
            "Similarity: 0/5 letters match exactly.\n",
            "Attempts: 2. Keep trying!\n",
            "\n",
            "Current mastery level: beginner\n",
            "Secret word length: 5\n",
            "Enter your guess or type 'Exit' to quit: Dirty\n",
            "Similarity: 0/5 letters match exactly.\n",
            "Attempts: 3. Keep trying!\n",
            "\n",
            "Current mastery level: beginner\n",
            "Secret word length: 5\n",
            "Enter your guess or type 'Exit' to quit: Jump\n",
            "Your guess must be 5 letters long. Try again!\n",
            "Current mastery level: beginner\n",
            "Secret word length: 5\n",
            "Enter your guess or type 'Exit' to quit: Jumps\n",
            "Similarity: 0/5 letters match exactly.\n",
            "Attempts: 4. Keep trying!\n",
            "\n",
            "Current mastery level: beginner\n",
            "Secret word length: 5\n",
            "Enter your guess or type 'Exit' to quit: exiy\n",
            "Your guess must be 5 letters long. Try again!\n",
            "Current mastery level: beginner\n",
            "Secret word length: 5\n",
            "Enter your guess or type 'Exit' to quit: exit\n",
            "Thank you for playing!\n"
          ]
        }
      ]
    }
  ],
  "metadata": {
    "colab": {
      "provenance": []
    },
    "kernelspec": {
      "display_name": "Python 3",
      "name": "python3"
    },
    "language_info": {
      "name": "python"
    }
  },
  "nbformat": 4,
  "nbformat_minor": 0
}